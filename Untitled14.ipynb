{
  "nbformat": 4,
  "nbformat_minor": 0,
  "metadata": {
    "colab": {
      "provenance": [],
      "authorship_tag": "ABX9TyP24jINIfJKo//uLK7loQi3",
      "include_colab_link": true
    },
    "kernelspec": {
      "name": "python3",
      "display_name": "Python 3"
    },
    "language_info": {
      "name": "python"
    }
  },
  "cells": [
    {
      "cell_type": "markdown",
      "metadata": {
        "id": "view-in-github",
        "colab_type": "text"
      },
      "source": [
        "<a href=\"https://colab.research.google.com/github/mokshagna28/mokshagna/blob/main/Untitled14.ipynb\" target=\"_parent\"><img src=\"https://colab.research.google.com/assets/colab-badge.svg\" alt=\"Open In Colab\"/></a>"
      ]
    },
    {
      "cell_type": "code",
      "source": [
        "!pip install gTTS\n"
      ],
      "metadata": {
        "colab": {
          "base_uri": "https://localhost:8080/"
        },
        "id": "2BYkPiJ78FCE",
        "outputId": "6ec261b9-188c-43f1-d5ba-b4bf1e67caf5"
      },
      "execution_count": null,
      "outputs": [
        {
          "output_type": "stream",
          "name": "stdout",
          "text": [
            "Collecting gTTS\n",
            "  Downloading gTTS-2.5.4-py3-none-any.whl.metadata (4.1 kB)\n",
            "Requirement already satisfied: requests<3,>=2.27 in /usr/local/lib/python3.11/dist-packages (from gTTS) (2.32.3)\n",
            "Collecting click<8.2,>=7.1 (from gTTS)\n",
            "  Downloading click-8.1.8-py3-none-any.whl.metadata (2.3 kB)\n",
            "Requirement already satisfied: charset-normalizer<4,>=2 in /usr/local/lib/python3.11/dist-packages (from requests<3,>=2.27->gTTS) (3.4.2)\n",
            "Requirement already satisfied: idna<4,>=2.5 in /usr/local/lib/python3.11/dist-packages (from requests<3,>=2.27->gTTS) (3.10)\n",
            "Requirement already satisfied: urllib3<3,>=1.21.1 in /usr/local/lib/python3.11/dist-packages (from requests<3,>=2.27->gTTS) (2.4.0)\n",
            "Requirement already satisfied: certifi>=2017.4.17 in /usr/local/lib/python3.11/dist-packages (from requests<3,>=2.27->gTTS) (2025.4.26)\n",
            "Downloading gTTS-2.5.4-py3-none-any.whl (29 kB)\n",
            "Downloading click-8.1.8-py3-none-any.whl (98 kB)\n",
            "\u001b[2K   \u001b[90m━━━━━━━━━━━━━━━━━━━━━━━━━━━━━━━━━━━━━━━━\u001b[0m \u001b[32m98.2/98.2 kB\u001b[0m \u001b[31m3.7 MB/s\u001b[0m eta \u001b[36m0:00:00\u001b[0m\n",
            "\u001b[?25hInstalling collected packages: click, gTTS\n",
            "  Attempting uninstall: click\n",
            "    Found existing installation: click 8.2.0\n",
            "    Uninstalling click-8.2.0:\n",
            "      Successfully uninstalled click-8.2.0\n",
            "Successfully installed click-8.1.8 gTTS-2.5.4\n"
          ]
        }
      ]
    },
    {
      "cell_type": "code",
      "source": [
        "from gtts import gTTS\n",
        "from IPython.display import Audio\n"
      ],
      "metadata": {
        "id": "DLmRdbF5_r9a"
      },
      "execution_count": null,
      "outputs": []
    },
    {
      "cell_type": "code",
      "source": [
        "text = \"hi hello \""
      ],
      "metadata": {
        "id": "I4wLv1X6_srp"
      },
      "execution_count": null,
      "outputs": []
    },
    {
      "cell_type": "code",
      "source": [
        "language = 'en'\n"
      ],
      "metadata": {
        "id": "DOxAIdT9_xlB"
      },
      "execution_count": null,
      "outputs": []
    },
    {
      "cell_type": "code",
      "source": [
        "tts = gTTS(text=text, lang=language)"
      ],
      "metadata": {
        "id": "psTlyWbD_2ci"
      },
      "execution_count": null,
      "outputs": []
    },
    {
      "cell_type": "code",
      "source": [],
      "metadata": {
        "id": "6By3umwsEn1q"
      },
      "execution_count": null,
      "outputs": []
    },
    {
      "cell_type": "code",
      "source": [
        "tts.save(\"output.mp3\")"
      ],
      "metadata": {
        "id": "l80Dg7ex_5jB"
      },
      "execution_count": null,
      "outputs": []
    },
    {
      "cell_type": "code",
      "source": [
        "Audio(\"output.mp3\")"
      ],
      "metadata": {
        "colab": {
          "base_uri": "https://localhost:8080/",
          "height": 75
        },
        "id": "4BRI7J6k_67x",
        "outputId": "b1451260-f3ac-4009-e7ba-537a44922304"
      },
      "execution_count": null,
      "outputs": [
        {
          "output_type": "execute_result",
          "data": {
            "text/plain": [
              "<IPython.lib.display.Audio object>"
            ],
            "text/html": [
              "\n",
              "                <audio  controls=\"controls\" >\n",
              "                    <source src=\"data:audio/mpeg;base64,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\" type=\"audio/mpeg\" />\n",
              "                    Your browser does not support the audio element.\n",
              "                </audio>\n",
              "              "
            ]
          },
          "metadata": {},
          "execution_count": 50
        }
      ]
    },
    {
      "cell_type": "code",
      "source": [
        "pip install SpeechRecognition\n"
      ],
      "metadata": {
        "colab": {
          "base_uri": "https://localhost:8080/"
        },
        "id": "C1hMQb88E0-I",
        "outputId": "7e90e8a9-a6f5-4d0d-a7ed-dd451f8cfc12"
      },
      "execution_count": null,
      "outputs": [
        {
          "output_type": "stream",
          "name": "stdout",
          "text": [
            "Requirement already satisfied: SpeechRecognition in /usr/local/lib/python3.11/dist-packages (3.14.3)\n",
            "Requirement already satisfied: typing-extensions in /usr/local/lib/python3.11/dist-packages (from SpeechRecognition) (4.13.2)\n"
          ]
        }
      ]
    }
  ]
}
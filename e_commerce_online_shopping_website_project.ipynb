{
  "nbformat": 4,
  "nbformat_minor": 0,
  "metadata": {
    "colab": {
      "provenance": [],
      "authorship_tag": "ABX9TyOkGCudawPcjMgTKr0XM50G",
      "include_colab_link": true
    },
    "kernelspec": {
      "name": "python3",
      "display_name": "Python 3"
    },
    "language_info": {
      "name": "python"
    }
  },
  "cells": [
    {
      "cell_type": "markdown",
      "metadata": {
        "id": "view-in-github",
        "colab_type": "text"
      },
      "source": [
        "<a href=\"https://colab.research.google.com/github/mokshagna28/mokshagna/blob/main/e_commerce_online_shopping_website_project.ipynb\" target=\"_parent\"><img src=\"https://colab.research.google.com/assets/colab-badge.svg\" alt=\"Open In Colab\"/></a>"
      ]
    },
    {
      "cell_type": "code",
      "execution_count": 1,
      "metadata": {
        "colab": {
          "base_uri": "https://localhost:8080/"
        },
        "id": "M0zilOlRsiqp",
        "outputId": "5917eec5-a2d5-4e95-d659-3584a58312e2"
      },
      "outputs": [
        {
          "output_type": "stream",
          "name": "stdout",
          "text": [
            "\u001b[2K   \u001b[90m━━━━━━━━━━━━━━━━━━━━━━━━━━━━━━━━━━━━━━━━\u001b[0m \u001b[32m54.2/54.2 MB\u001b[0m \u001b[31m12.4 MB/s\u001b[0m eta \u001b[36m0:00:00\u001b[0m\n",
            "\u001b[2K   \u001b[90m━━━━━━━━━━━━━━━━━━━━━━━━━━━━━━━━━━━━━━━━\u001b[0m \u001b[32m323.1/323.1 kB\u001b[0m \u001b[31m13.2 MB/s\u001b[0m eta \u001b[36m0:00:00\u001b[0m\n",
            "\u001b[2K   \u001b[90m━━━━━━━━━━━━━━━━━━━━━━━━━━━━━━━━━━━━━━━━\u001b[0m \u001b[32m95.2/95.2 kB\u001b[0m \u001b[31m5.1 MB/s\u001b[0m eta \u001b[36m0:00:00\u001b[0m\n",
            "\u001b[2K   \u001b[90m━━━━━━━━━━━━━━━━━━━━━━━━━━━━━━━━━━━━━━━━\u001b[0m \u001b[32m11.5/11.5 MB\u001b[0m \u001b[31m70.9 MB/s\u001b[0m eta \u001b[36m0:00:00\u001b[0m\n",
            "\u001b[2K   \u001b[90m━━━━━━━━━━━━━━━━━━━━━━━━━━━━━━━━━━━━━━━━\u001b[0m \u001b[32m72.0/72.0 kB\u001b[0m \u001b[31m3.8 MB/s\u001b[0m eta \u001b[36m0:00:00\u001b[0m\n",
            "\u001b[2K   \u001b[90m━━━━━━━━━━━━━━━━━━━━━━━━━━━━━━━━━━━━━━━━\u001b[0m \u001b[32m62.5/62.5 kB\u001b[0m \u001b[31m3.4 MB/s\u001b[0m eta \u001b[36m0:00:00\u001b[0m\n",
            "\u001b[?25h"
          ]
        }
      ],
      "source": [
        "!pip install -q gradio scikit-learn pandas\n"
      ]
    },
    {
      "cell_type": "code",
      "source": [
        "import pandas as pd\n",
        "\n",
        "products = pd.DataFrame({\n",
        "    'id': [1, 2, 3, 4, 5],\n",
        "    'name': ['Laptop', 'Smartphone', 'Headphones', 'Smartwatch', 'Gaming Mouse'],\n",
        "    'price': [80000, 25000, 3000, 12000, 1500],\n",
        "    'category': ['Electronics', 'Electronics', 'Accessories', 'Wearables', 'Accessories'],\n",
        "    'desc': [\n",
        "        'High-performance laptop for developers and gamers',\n",
        "        'Latest 5G smartphone with great camera',\n",
        "        'Wireless noise-cancelling headphones',\n",
        "        'Fitness smartwatch with long battery life',\n",
        "        'RGB mouse with high DPI for gaming'\n",
        "    ],\n",
        "    'image': [\n",
        "        '/content/laptop.jpg',\n",
        "        '/content/smartphone.jpg',\n",
        "        '/content/headphones.jpg',\n",
        "        '/content/smartwatch.jpg',\n",
        "        '/content/gmaing mouse.jpg'\n",
        "    ]\n",
        "})"
      ],
      "metadata": {
        "id": "MOXq4Qr8zFPw"
      },
      "execution_count": 6,
      "outputs": []
    },
    {
      "cell_type": "code",
      "source": [
        "from sklearn.feature_extraction.text import TfidfVectorizer\n",
        "from sklearn.metrics.pairwise import cosine_similarity\n",
        "import pandas as pd\n",
        "\n",
        "vectorizer = TfidfVectorizer()\n",
        "\n",
        "X = vectorizer.fit_transform(products['desc'])\n",
        "\n",
        "def recommend(product_name):\n",
        "    try:\n",
        "        index = products[products['name'] == product_name].index[0]\n",
        "        scores = cosine_similarity(X[index], X).flatten()\n",
        "        similar = scores.argsort()[::-1][1:4]  # top 3\n",
        "        return products.iloc[similar][['name', 'price', 'category', 'image']]\n",
        "    except:\n",
        "\n",
        "        return pd.DataFrame(columns=['name', 'price', 'category', 'image'])"
      ],
      "metadata": {
        "id": "c8EXSetnzh8W"
      },
      "execution_count": 9,
      "outputs": []
    },
    {
      "cell_type": "code",
      "source": [
        "cart = []\n",
        "\n",
        "def add_to_cart(product_id):\n",
        "    product = products[products['id'] == int(product_id)]\n",
        "    if not product.empty:\n",
        "        cart.append(product.iloc[0])\n",
        "        return f\"✅ {product.iloc[0]['name']} added to cart.\"\n",
        "    else:\n",
        "        return \"❌ Invalid Product ID.\"\n",
        "\n",
        "def view_cart():\n",
        "    if cart:\n",
        "        return pd.DataFrame(cart)[['name', 'price', 'category', 'image']]\n",
        "    else:\n",
        "        return pd.DataFrame(columns=['name', 'price', 'category', 'image'])\n"
      ],
      "metadata": {
        "id": "17dyYXqQzo2t"
      },
      "execution_count": 10,
      "outputs": []
    },
    {
      "cell_type": "code",
      "source": [
        "new_product = {\n",
        "    'id': 4,\n",
        "    'name': 'Chromebook N4120',\n",
        "    'price': 22000,\n",
        "    'category': 'Electronics',\n",
        "    'desc': 'Intel Celeron N4120, 4GB RAM, 64GB storage, ChromeOS, UHD graphics',\n",
        "    'image': '-original-imah4sspf2bgvqk4.webp'\n",
        "\n",
        "products = pd.concat([products, pd.DataFrame([new_product])], ignore_index=True)\n"
      ],
      "metadata": {
        "id": "hZl9k6sq4Qar"
      },
      "execution_count": 19,
      "outputs": []
    },
    {
      "cell_type": "code",
      "source": [
        "import gradio as gr\n",
        "\n",
        "def recommend_ui(product_name):\n",
        "    df = recommend(product_name)\n",
        "    # Ensure images are in a list of tuples (image_path, label)\n",
        "    return [(row['image'], f\"{row['name']} - ₹{row['price']}\") for _, row in df.iterrows()]\n",
        "\n",
        "\n",
        "def add_ui(product_id):\n",
        "    msg = add_to_cart(product_id)\n",
        "    df = view_cart()\n",
        "    # Ensure images are in a list of tuples (image_path, label)\n",
        "    cart_items = [(row['image'], f\"{row['name']} - ₹{row['price']}\") for _, row in df.iterrows()]\n",
        "    return msg, cart_items\n",
        "\n",
        "product_names = list(products['name'])\n",
        "\n",
        "with gr.Blocks() as app:\n",
        "    gr.Markdown(\"## 🛍️ AI-Powered E-Commerce Store\")\n",
        "\n",
        "    with gr.Row():\n",
        "        dropdown = gr.Dropdown(product_names, label=\"🔍 Choose a Product\")\n",
        "        btn_rec = gr.Button(\"Get Recommendations\")\n",
        "    # Removed the unsupported .style() method call\n",
        "    gallery_rec = gr.Gallery(label=\"🧠 Recommended Products\")\n",
        "\n",
        "    gr.Markdown(\"### 🛒 Add to Cart by Product ID\")\n",
        "    with gr.Row():\n",
        "        product_id = gr.Textbox(label=\"Product ID (e.g., 1)\")\n",
        "        btn_add = gr.Button(\"Add to Cart\")\n",
        "    cart_msg = gr.Textbox(label=\"Cart Status\")\n",
        "    # Removed the unsupported .style() method call\n",
        "    gallery_cart = gr.Gallery(label=\"🧾 Your Cart\")\n",
        "\n",
        "\n",
        "    btn_rec.click(recommend_ui, inputs=dropdown, outputs=gallery_rec)\n",
        "    btn_add.click(add_ui, inputs=product_id, outputs=[cart_msg, gallery_cart])\n",
        "\n",
        "app.launch()"
      ],
      "metadata": {
        "colab": {
          "base_uri": "https://localhost:8080/",
          "height": 646
        },
        "id": "cDei83WLz3W1",
        "outputId": "d6a172b8-fe7f-467d-c226-174df3781a8e"
      },
      "execution_count": 20,
      "outputs": [
        {
          "output_type": "stream",
          "name": "stdout",
          "text": [
            "It looks like you are running Gradio on a hosted a Jupyter notebook. For the Gradio app to work, sharing must be enabled. Automatically setting `share=True` (you can turn this off by setting `share=False` in `launch()` explicitly).\n",
            "\n",
            "Colab notebook detected. To show errors in colab notebook, set debug=True in launch()\n",
            "* Running on public URL: https://7b77b978a19323c077.gradio.live\n",
            "\n",
            "This share link expires in 1 week. For free permanent hosting and GPU upgrades, run `gradio deploy` from the terminal in the working directory to deploy to Hugging Face Spaces (https://huggingface.co/spaces)\n"
          ]
        },
        {
          "output_type": "display_data",
          "data": {
            "text/plain": [
              "<IPython.core.display.HTML object>"
            ],
            "text/html": [
              "<div><iframe src=\"https://7b77b978a19323c077.gradio.live\" width=\"100%\" height=\"500\" allow=\"autoplay; camera; microphone; clipboard-read; clipboard-write;\" frameborder=\"0\" allowfullscreen></iframe></div>"
            ]
          },
          "metadata": {}
        },
        {
          "output_type": "execute_result",
          "data": {
            "text/plain": []
          },
          "metadata": {},
          "execution_count": 20
        }
      ]
    },
    {
      "cell_type": "code",
      "source": [
        "import gradio as gr\n",
        "\n",
        "\n",
        "def recommend_ui(product_name):\n",
        "    df = recommend(product_name)\n",
        "    return [(row['image'], f\"{row['name']} - ₹{row['price']}\") for _, row in df.iterrows()]\n",
        "\n",
        "\n",
        "def add_ui(product_id):\n",
        "    msg = add_to_cart(product_id)\n",
        "    df = view_cart()\n",
        "    cart_items = [(row['image'], f\"{row['name']} - ₹{row['price']}\") for _, row in df.iterrows()]\n",
        "    return msg, cart_items\n",
        "\n",
        "\n",
        "product_names = list(products['name'])\n",
        "\n",
        "\n",
        "with gr.Blocks() as app:\n",
        "    gr.Markdown(\"## 🛍️ AI-Powered E-Commerce Store\")\n",
        "\n",
        "    with gr.Row():\n",
        "        dropdown = gr.Dropdown(product_names, label=\"🔍 Choose a Product\")\n",
        "        btn_rec = gr.Button(\"Get Recommendations\")\n",
        "\n",
        "    gallery_rec = gr.Gallery(label=\"🧠 Recommended Products\", height=\"auto\")\n",
        "\n",
        "    gr.Markdown(\"### 🛒 Add to Cart by Product ID\")\n",
        "    with gr.Row():\n",
        "        product_id = gr.Textbox(label=\"Product ID (e.g., 1)\")\n",
        "        btn_add = gr.Button(\"Add to Cart\")\n",
        "\n",
        "    cart_msg = gr.Textbox(label=\"Cart Status\")\n",
        "\n",
        "    gallery_cart = gr.Gallery(label=\"🧾 Your Cart\", height=\"auto\") # Removed grid=2\n",
        "\n",
        "    btn_rec.click(recommend_ui, inputs=dropdown, outputs=gallery_rec)\n",
        "    btn_add.click(add_ui, inputs=product_id, outputs=[cart_msg, gallery_cart])\n",
        "\n",
        "\n",
        "app.launch()"
      ],
      "metadata": {
        "colab": {
          "base_uri": "https://localhost:8080/",
          "height": 646
        },
        "id": "dklRWptOz8z1",
        "outputId": "e5d82227-4f13-4ab3-ce6e-8ab01e3b8177"
      },
      "execution_count": 15,
      "outputs": [
        {
          "output_type": "stream",
          "name": "stdout",
          "text": [
            "It looks like you are running Gradio on a hosted a Jupyter notebook. For the Gradio app to work, sharing must be enabled. Automatically setting `share=True` (you can turn this off by setting `share=False` in `launch()` explicitly).\n",
            "\n",
            "Colab notebook detected. To show errors in colab notebook, set debug=True in launch()\n",
            "* Running on public URL: https://4360e27dfe149a242e.gradio.live\n",
            "\n",
            "This share link expires in 1 week. For free permanent hosting and GPU upgrades, run `gradio deploy` from the terminal in the working directory to deploy to Hugging Face Spaces (https://huggingface.co/spaces)\n"
          ]
        },
        {
          "output_type": "display_data",
          "data": {
            "text/plain": [
              "<IPython.core.display.HTML object>"
            ],
            "text/html": [
              "<div><iframe src=\"https://4360e27dfe149a242e.gradio.live\" width=\"100%\" height=\"500\" allow=\"autoplay; camera; microphone; clipboard-read; clipboard-write;\" frameborder=\"0\" allowfullscreen></iframe></div>"
            ]
          },
          "metadata": {}
        },
        {
          "output_type": "execute_result",
          "data": {
            "text/plain": []
          },
          "metadata": {},
          "execution_count": 15
        }
      ]
    },
    {
      "cell_type": "code",
      "source": [
        "# ✅ 1. IMPORT REQUIRED MODULES\n",
        "import pandas as pd\n",
        "import gradio as gr\n",
        "from google.colab import files\n",
        "from sklearn.feature_extraction.text import CountVectorizer\n",
        "from sklearn.metrics.pairwise import cosine_similarity\n",
        "\n",
        "# ✅ 2. UPLOAD PRODUCT IMAGES (run once to upload)\n",
        "# uploaded = files.upload()  # Upload 'laptop.jpg', 'smartphone.jpg', 'headphones.jpg'\n",
        "# Note: If running in Colab, you will need to uncomment the line above and upload the images.\n",
        "# For other environments, ensure the image paths in 'products' DataFrame are correct.\n",
        "\n",
        "\n",
        "# ✅ 3. DEFINE PRODUCT DATA\n",
        "products = pd.DataFrame({\n",
        "    'id': [1, 2, 3],\n",
        "    'name': ['Laptop', 'Smartphone', 'Headphones'],\n",
        "    'price': [80000, 25000, 3000],\n",
        "    'category': ['Electronics', 'Electronics', 'Accessories'],\n",
        "    'desc': [\n",
        "        'High-performance laptop for gaming and work',\n",
        "        'Latest 5G smartphone with great camera',\n",
        "        'Noise-cancelling over-ear headphones'\n",
        "    ],\n",
        "    'image': ['laptop.jpg', 'smartphone.jpg', 'headphones.jpg']  # 🖼️ Must match uploaded filenames\n",
        "})\n",
        "\n",
        "# ✅ 4. AI PRODUCT RECOMMENDER FUNCTION\n",
        "def recommend(product_name):\n",
        "    cv = CountVectorizer()\n",
        "    desc_matrix = cv.fit_transform(products['desc'])\n",
        "    similarity = cosine_similarity(desc_matrix)\n",
        "\n",
        "    try:\n",
        "        index = products[products['name'] == product_name].index[0]\n",
        "        distances = list(enumerate(similarity[index]))\n",
        "        # Assuming you want top 2 recommendations, excluding the product itself\n",
        "        sorted_distances = sorted(distances, key=lambda x: x[1], reverse=True)[1:3]\n",
        "\n",
        "        recommended = products.iloc[[i[0] for i in sorted_distances]]\n",
        "        return recommended[['name', 'price', 'category', 'image']]\n",
        "    except IndexError:\n",
        "        # Handle the case where the product_name is not found\n",
        "        return pd.DataFrame(columns=['name', 'price', 'category', 'image'])\n",
        "\n",
        "\n",
        "# ✅ 5. FORMAT FOR IMAGE DISPLAY\n",
        "def recommend_ui(product_name):\n",
        "    df = recommend(product_name)\n",
        "    # Ensure df is not empty before iterating\n",
        "    if not df.empty:\n",
        "        return [(row['image'], f\"{row['name']} - ₹{row['price']}\") for _, row in df.iterrows()]\n",
        "    else:\n",
        "        return [] # Return an empty list if no recommendations\n",
        "\n",
        "\n",
        "# ✅ 6. INITIALIZE CART\n",
        "cart = []\n",
        "\n",
        "# ✅ 7. ADD PRODUCT TO CART\n",
        "# Changed to add by product_name for consistency with the dropdown input\n",
        "def add_to_cart(product_name):\n",
        "    product = products[products['name'] == product_name]\n",
        "    if not product.empty:\n",
        "        cart.append(product.iloc[0].to_dict()) # Append as dictionary to avoid SettingWithCopyWarning later\n",
        "        # Return the updated cart for display\n",
        "        return [(item['image'], f\"{item['name']} - ₹{item['price']}\") for item in cart]\n",
        "    else:\n",
        "        # If product_name is not found, return the current cart state and an error message\n",
        "        return [(item['image'], f\"{item['name']} - ₹{item['price']}\") for item in cart]\n",
        "\n",
        "\n",
        "# Function to view the cart, used after adding an item\n",
        "def view_cart():\n",
        "    if cart:\n",
        "        return [(item['image'], f\"{item['name']} - ₹{item['price']}\") for item in cart]\n",
        "    else:\n",
        "        return []\n",
        "\n",
        "\n",
        "# ✅ 8. CHECKOUT TOTAL\n",
        "def checkout():\n",
        "    total = sum([row['price'] for row in cart])\n",
        "    # Clear the cart after checkout (optional)\n",
        "    # cart.clear()\n",
        "    return f\"Total Price: ₹{total}\"\n",
        "\n",
        "# ✅ 9. GRADIO INTERFACE\n",
        "with gr.Blocks() as app:\n",
        "    gr.Markdown(\"## 🛍️ AI-Powered E-Commerce Store\")\n",
        "\n",
        "    dropdown = gr.Dropdown(choices=products['name'].tolist(), label=\"Select a Product\")\n",
        "\n",
        "    btn_rec = gr.Button(\"🧠 Get Recommendations\")\n",
        "    # Apply columns and height directly to the Gallery constructor\n",
        "    # Changed grid=2 to columns=2\n",
        "    gallery_rec = gr.Gallery(label=\"Recommended Products\", columns=2, height=\"auto\")\n",
        "\n",
        "    btn_rec.click(fn=recommend_ui, inputs=dropdown, outputs=gallery_rec)\n",
        "\n",
        "    gr.Markdown(\"## 🧾 Add to Cart\")\n",
        "    # Changed input to dropdown to add the selected product from recommendations/initial list\n",
        "    btn_cart = gr.Button(\"➕ Add to Cart\")\n",
        "    # Apply columns and height directly to the Gallery constructor\n",
        "    # Changed grid=2 to columns=2\n",
        "    gallery_cart = gr.Gallery(label=\"Your Cart\", columns=2, height=\"auto\")\n",
        "\n",
        "    # Modified the click function to add the product selected in the dropdown\n",
        "    btn_cart.click(fn=add_to_cart, inputs=dropdown, outputs=gallery_cart)\n",
        "\n",
        "    gr.Markdown(\"## 💳 Checkout\")\n",
        "    btn_checkout = gr.Button(\"✅ Checkout\")\n",
        "    output_checkout = gr.Textbox(label=\"Total\")\n",
        "\n",
        "    btn_checkout.click(fn=checkout, inputs=[], outputs=output_checkout)\n",
        "\n",
        "# ✅ 10. LAUNCH\n",
        "app.launch(share=True)"
      ],
      "metadata": {
        "colab": {
          "base_uri": "https://localhost:8080/",
          "height": 611
        },
        "id": "pYU6FyrL1Atl",
        "outputId": "65d79117-395b-4712-ef6b-cf230cbd6ba3"
      },
      "execution_count": 18,
      "outputs": [
        {
          "output_type": "stream",
          "name": "stdout",
          "text": [
            "Colab notebook detected. To show errors in colab notebook, set debug=True in launch()\n",
            "* Running on public URL: https://806cf1f12c47457664.gradio.live\n",
            "\n",
            "This share link expires in 1 week. For free permanent hosting and GPU upgrades, run `gradio deploy` from the terminal in the working directory to deploy to Hugging Face Spaces (https://huggingface.co/spaces)\n"
          ]
        },
        {
          "output_type": "display_data",
          "data": {
            "text/plain": [
              "<IPython.core.display.HTML object>"
            ],
            "text/html": [
              "<div><iframe src=\"https://806cf1f12c47457664.gradio.live\" width=\"100%\" height=\"500\" allow=\"autoplay; camera; microphone; clipboard-read; clipboard-write;\" frameborder=\"0\" allowfullscreen></iframe></div>"
            ]
          },
          "metadata": {}
        },
        {
          "output_type": "execute_result",
          "data": {
            "text/plain": []
          },
          "metadata": {},
          "execution_count": 18
        }
      ]
    },
    {
      "cell_type": "code",
      "source": [],
      "metadata": {
        "id": "S89i7Au62tvG"
      },
      "execution_count": null,
      "outputs": []
    }
  ]
}